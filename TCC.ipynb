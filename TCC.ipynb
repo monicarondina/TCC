{
  "nbformat": 4,
  "nbformat_minor": 0,
  "metadata": {
    "colab": {
      "name": "TCC.ipynb",
      "provenance": [],
      "authorship_tag": "ABX9TyNIgB6yShbMzXKnKF7e0P2h",
      "include_colab_link": true
    },
    "kernelspec": {
      "name": "python3",
      "display_name": "Python 3"
    },
    "language_info": {
      "name": "python"
    }
  },
  "cells": [
    {
      "cell_type": "markdown",
      "metadata": {
        "id": "view-in-github",
        "colab_type": "text"
      },
      "source": [
        "<a href=\"https://colab.research.google.com/github/monicarondina/TCC/blob/main/TCC.ipynb\" target=\"_parent\"><img src=\"https://colab.research.google.com/assets/colab-badge.svg\" alt=\"Open In Colab\"/></a>"
      ]
    },
    {
      "cell_type": "code",
      "execution_count": 1,
      "metadata": {
        "id": "Jn9vUSZht3X7"
      },
      "outputs": [],
      "source": [
        "import pandas as pd"
      ]
    },
    {
      "cell_type": "code",
      "source": [
        "df1=pd.read_csv('https://github.com/monicarondina/TCC/raw/main/06_12/Clientes_06_12.csv', sep=';', dtype={'Código':str})"
      ],
      "metadata": {
        "id": "jj3zk9OluJL8"
      },
      "execution_count": 2,
      "outputs": []
    },
    {
      "cell_type": "code",
      "source": [
        "df1.drop(['Instituição financeira', 'TCB', 'TD', 'TC', 'SR','Segmento', 'Cidade', 'UF', 'Data'], axis=1, inplace=True)"
      ],
      "metadata": {
        "id": "ikNtUSpAvB4G"
      },
      "execution_count": 3,
      "outputs": []
    },
    {
      "cell_type": "code",
      "source": [
        "df2=pd.read_csv('https://github.com/monicarondina/TCC/raw/main/06_12/DR_06_12.csv', sep=';', dtype={'Código':str})"
      ],
      "metadata": {
        "id": "8djfHis4yfrI"
      },
      "execution_count": 4,
      "outputs": []
    },
    {
      "cell_type": "code",
      "source": [
        "df2.drop(['Instituição financeira', 'TCB', 'TD', 'TC', 'SR','Cidade', 'UF', 'Data'], axis=1, inplace=True)\n",
        "#df2.info()"
      ],
      "metadata": {
        "id": "rcfo5U8zyrkm"
      },
      "execution_count": 5,
      "outputs": []
    },
    {
      "cell_type": "code",
      "source": [
        "df3=pd.read_csv('https://github.com/monicarondina/TCC/raw/main/06_12/Indexador_06_12.csv', sep=';', dtype={'Código':str})"
      ],
      "metadata": {
        "id": "7Mh7lRvvzAqq"
      },
      "execution_count": 6,
      "outputs": []
    },
    {
      "cell_type": "code",
      "source": [
        "df3.drop(['Instituição financeira', 'TCB', 'TD', 'TC', 'SR','Cidade', 'UF', 'Data', 'Segmento', 'Total Geral', 'Total Exterior'], axis=1, inplace=True)\n",
        "#df3.info()"
      ],
      "metadata": {
        "id": "FEAlLD6WzMA1"
      },
      "execution_count": 7,
      "outputs": []
    },
    {
      "cell_type": "code",
      "source": [
        "df4=pd.read_csv('https://github.com/monicarondina/TCC/raw/main/06_12/PF_06_12.csv', sep=';', dtype={'Código':str})"
      ],
      "metadata": {
        "id": "X2G20i7gBiZb"
      },
      "execution_count": 8,
      "outputs": []
    },
    {
      "cell_type": "code",
      "source": [
        "df4.drop(['Instituição financeira', 'TCB', 'TD', 'TC', 'SR','Segmento','Cidade', 'UF', 'Data'], axis=1, inplace=True)"
      ],
      "metadata": {
        "id": "J-TWNAhDEA2A"
      },
      "execution_count": 9,
      "outputs": []
    },
    {
      "cell_type": "code",
      "source": [
        "df4=df4.dropna()"
      ],
      "metadata": {
        "id": "uD7veNwgEOfL"
      },
      "execution_count": 10,
      "outputs": []
    },
    {
      "cell_type": "code",
      "source": [
        "df5=pd.read_csv('https://github.com/monicarondina/TCC/raw/main/06_12/PJ_modalidade_06_12.csv', sep=';', dtype={'Código':str})"
      ],
      "metadata": {
        "id": "q0lBdPw4EYml"
      },
      "execution_count": 11,
      "outputs": []
    },
    {
      "cell_type": "code",
      "source": [
        "df5.drop(['SR'], axis=1, inplace=True)"
      ],
      "metadata": {
        "id": "t7IeTbqIF4B9"
      },
      "execution_count": 12,
      "outputs": []
    },
    {
      "cell_type": "code",
      "source": [
        "df5=df5.dropna()"
      ],
      "metadata": {
        "id": "7EAajE6XGD2s"
      },
      "execution_count": 13,
      "outputs": []
    },
    {
      "cell_type": "code",
      "source": [
        "df6=pd.read_csv('https://github.com/monicarondina/TCC/raw/main/06_12/Porte_06_12.csv', sep=';', dtype={'Código':str})"
      ],
      "metadata": {
        "id": "8NmzPuy3GMyW"
      },
      "execution_count": 14,
      "outputs": []
    },
    {
      "cell_type": "code",
      "source": [
        "df6.drop(['Instituição financeira', 'TCB', 'TD', 'TC', 'SR','Segmento','Cidade', 'UF', 'Data', 'Total Exterior Pessoa Jurídica', 'Total da Carteira de Pessoa Jurídica'], axis=1, inplace=True)\n",
        "df6=df6.dropna()"
      ],
      "metadata": {
        "id": "UzGwOfsmGMjr"
      },
      "execution_count": 15,
      "outputs": []
    },
    {
      "cell_type": "code",
      "source": [
        "df7=pd.read_csv('https://github.com/monicarondina/TCC/raw/main/06_12/Risco_06_12.csv', sep=';', dtype={'Código':str})"
      ],
      "metadata": {
        "id": "q2EMgqRNGmDZ"
      },
      "execution_count": 16,
      "outputs": []
    },
    {
      "cell_type": "code",
      "source": [
        "df7.drop(['Instituição financeira', 'TCB', 'TD', 'TC', 'SR','Segmento','Cidade', 'UF', 'Data'], axis=1, inplace=True)\n",
        "df7=df7.dropna()"
      ],
      "metadata": {
        "id": "JsALuD9SG3_w"
      },
      "execution_count": 17,
      "outputs": []
    },
    {
      "cell_type": "code",
      "source": [
        "pd.set_option('display.max_colum',None)"
      ],
      "metadata": {
        "id": "kZs42H0_IAtU"
      },
      "execution_count": 18,
      "outputs": []
    },
    {
      "cell_type": "code",
      "source": [
        "df1.info()"
      ],
      "metadata": {
        "colab": {
          "base_uri": "https://localhost:8080/"
        },
        "id": "Yky5viuaJgAn",
        "outputId": "4a1f8828-1a24-481e-8dc7-b158e477e8bf"
      },
      "execution_count": 19,
      "outputs": [
        {
          "output_type": "stream",
          "name": "stdout",
          "text": [
            "<class 'pandas.core.frame.DataFrame'>\n",
            "RangeIndex: 1697 entries, 0 to 1696\n",
            "Data columns (total 3 columns):\n",
            " #   Column        Non-Null Count  Dtype \n",
            "---  ------        --------------  ----- \n",
            " 0   Código        1697 non-null   object\n",
            " 1   Qt_Clientes   1697 non-null   object\n",
            " 2   Qt_Operações  1697 non-null   object\n",
            "dtypes: object(3)\n",
            "memory usage: 39.9+ KB\n"
          ]
        }
      ]
    },
    {
      "cell_type": "code",
      "source": [
        "df2.info()"
      ],
      "metadata": {
        "colab": {
          "base_uri": "https://localhost:8080/"
        },
        "id": "C61Q6M58Jjd-",
        "outputId": "52ab8d2a-dc9d-4bfd-93ca-7ba274546441"
      },
      "execution_count": 20,
      "outputs": [
        {
          "output_type": "stream",
          "name": "stdout",
          "text": [
            "<class 'pandas.core.frame.DataFrame'>\n",
            "RangeIndex: 1697 entries, 0 to 1696\n",
            "Data columns (total 31 columns):\n",
            " #   Column  Non-Null Count  Dtype \n",
            "---  ------  --------------  ----- \n",
            " 0   Código  1697 non-null   object\n",
            " 1   a1      1697 non-null   object\n",
            " 2   a2      1697 non-null   object\n",
            " 3   a3      1697 non-null   object\n",
            " 4   a4      1697 non-null   object\n",
            " 5   a5      1697 non-null   object\n",
            " 6   a6      1697 non-null   object\n",
            " 7   a       1697 non-null   object\n",
            " 8   b1      1697 non-null   object\n",
            " 9   b2      1697 non-null   object\n",
            " 10  b3      1697 non-null   object\n",
            " 11  b4      1697 non-null   object\n",
            " 12  b5      1697 non-null   object\n",
            " 13  b       1697 non-null   object\n",
            " 14  c       1697 non-null   object\n",
            " 15  d1      1697 non-null   object\n",
            " 16  d2      1697 non-null   object\n",
            " 17  d3      1697 non-null   object\n",
            " 18  d4      1697 non-null   object\n",
            " 19  d5      1697 non-null   object\n",
            " 20  d6      1697 non-null   object\n",
            " 21  d7      1697 non-null   object\n",
            " 22  d8      1697 non-null   object\n",
            " 23  d       1697 non-null   object\n",
            " 24  e       1697 non-null   object\n",
            " 25  f       1697 non-null   object\n",
            " 26  g       1697 non-null   object\n",
            " 27  h       1697 non-null   object\n",
            " 28  i       1697 non-null   object\n",
            " 29  j       1697 non-null   object\n",
            " 30  k       1697 non-null   object\n",
            "dtypes: object(31)\n",
            "memory usage: 411.1+ KB\n"
          ]
        }
      ]
    },
    {
      "cell_type": "code",
      "source": [
        "df3.info()"
      ],
      "metadata": {
        "colab": {
          "base_uri": "https://localhost:8080/"
        },
        "id": "cJ-gbNA3Jl4k",
        "outputId": "38ee348c-e516-4ff6-a571-072919b3340e"
      },
      "execution_count": 21,
      "outputs": [
        {
          "output_type": "stream",
          "name": "stdout",
          "text": [
            "<class 'pandas.core.frame.DataFrame'>\n",
            "RangeIndex: 1697 entries, 0 to 1696\n",
            "Data columns (total 15 columns):\n",
            " #   Column                            Non-Null Count  Dtype \n",
            "---  ------                            --------------  ----- \n",
            " 0   Código                            1697 non-null   object\n",
            " 1   Prefixado                         1650 non-null   object\n",
            " 2   TR / TBF                          1650 non-null   object\n",
            " 3   TJLP                              1650 non-null   object\n",
            " 4   Libor                             1650 non-null   object\n",
            " 5   Outras Taxas Pós-Fixadas          1650 non-null   object\n",
            " 6   Carteira ativa com indexador CDI  1650 non-null   object\n",
            " 7   SELIC                             1650 non-null   object\n",
            " 8   Outras Taxas Flutuantes           1650 non-null   object\n",
            " 9   IGPM                              1650 non-null   object\n",
            " 10  IPCA                              1650 non-null   object\n",
            " 11  IPCC                              1650 non-null   object\n",
            " 12  Outros Índices de Preço           1650 non-null   object\n",
            " 13  Outros Indexadores                1650 non-null   object\n",
            " 14  Total não Individualizado         1650 non-null   object\n",
            "dtypes: object(15)\n",
            "memory usage: 199.0+ KB\n"
          ]
        }
      ]
    },
    {
      "cell_type": "code",
      "source": [
        "df4.info()"
      ],
      "metadata": {
        "colab": {
          "base_uri": "https://localhost:8080/"
        },
        "id": "8168jWoVJo2g",
        "outputId": "36654fca-00f0-4e35-9fc3-4dc027dd4149"
      },
      "execution_count": 22,
      "outputs": [
        {
          "output_type": "stream",
          "name": "stdout",
          "text": [
            "<class 'pandas.core.frame.DataFrame'>\n",
            "Int64Index: 1650 entries, 0 to 1696\n",
            "Data columns (total 59 columns):\n",
            " #   Column                                Non-Null Count  Dtype \n",
            "---  ------                                --------------  ----- \n",
            " 0   Código                                1650 non-null   object\n",
            " 1   Total_Carteira_PF                     1650 non-null   object\n",
            " 2   PF_Consignado_Vencido_15d             1650 non-null   object\n",
            " 3   PF_Consignado_Vencer_90d              1650 non-null   object\n",
            " 4   PF_Consignado_Vencer_91-360d          1650 non-null   object\n",
            " 5   PF_Consignado_Vencer_361-1080d        1650 non-null   object\n",
            " 6   PF_Consignado_Vencer_1081-1800d       1650 non-null   object\n",
            " 7   PF_Consignado_Vencer_1801-5400d       1650 non-null   object\n",
            " 8   PF_Consignado_Vencer_acima_5400d      1650 non-null   object\n",
            " 9   PF_Consignado_TOTAL                   1650 non-null   object\n",
            " 10  PF_Não_Consignado_Vencido_15d         1650 non-null   object\n",
            " 11  PF_Não_Consignado_Vencer_90d          1650 non-null   object\n",
            " 12  PF_Não_Consignado_Vencer_91-360d      1650 non-null   object\n",
            " 13  PF_Não_Consignado_Vencer_361-1080d    1650 non-null   object\n",
            " 14  PF_Não_Consignado_Vencer_1081-1800d   1650 non-null   object\n",
            " 15  PF_Não_Consignado_Vencer_1801-5400d   1650 non-null   object\n",
            " 16  PF_Não_Consignado_Vencer_acima_5400d  1650 non-null   object\n",
            " 17  PF_Não_Consignado_TOTAL               1650 non-null   object\n",
            " 18  PF_Veículos_Vencido_15d               1650 non-null   object\n",
            " 19  PF_Veículos_Vencer_90d                1650 non-null   object\n",
            " 20  PF_Veículos_Vencer_91-360d            1650 non-null   object\n",
            " 21  PF_Veículos_Vencer_361-1080d          1650 non-null   object\n",
            " 22  PF_Veículos_Vencer_1081-1800d         1650 non-null   object\n",
            " 23  PF_Veículos_Vencer_1801-5400d         1650 non-null   object\n",
            " 24  PF_Veículos_Vencer_acima_5400d        1650 non-null   object\n",
            " 25  PF_Veículos_TOTAL                     1650 non-null   object\n",
            " 26  PF_Hab_Vencido_15d                    1650 non-null   object\n",
            " 27  PF_Hab_Vencer_90d                     1650 non-null   object\n",
            " 28  PF_Hab_Vencer_91-360d                 1650 non-null   object\n",
            " 29  PF_Hab_Vencer_361-1080d               1650 non-null   object\n",
            " 30  PF_Hab_Vencer_1081-1800d              1650 non-null   object\n",
            " 31  PF_Hab_Vencer_1801-5400d              1650 non-null   object\n",
            " 32  PF_Hab_Vencer_acima_5400d             1650 non-null   object\n",
            " 33  PF_Hab_TOTAL                          1650 non-null   object\n",
            " 34  PF_Cartão_Vencido_15d                 1650 non-null   object\n",
            " 35  PF_Cartão_Vencer_90d                  1650 non-null   object\n",
            " 36  PF_Cartão_Vencer_91-360d              1650 non-null   object\n",
            " 37  PF_Cartão_Vencer_361-1080d            1650 non-null   object\n",
            " 38  PF_Cartão_Vencer_1081-1800d           1650 non-null   object\n",
            " 39  PF_Cartão_Vencer_1801-5400d           1650 non-null   object\n",
            " 40  PF_Cartão_Vencer_acima_5400d          1650 non-null   object\n",
            " 41  PF_Cartão_TOTAL                       1650 non-null   object\n",
            " 42  PF_Rural_Vencido_15d                  1650 non-null   object\n",
            " 43  PF_Rural_Vencer_90d                   1650 non-null   object\n",
            " 44  PF_Rural_Vencer_91-360d               1650 non-null   object\n",
            " 45  PF_Rural_Vencer_361-1080d             1650 non-null   object\n",
            " 46  PF_Rural_Vencer_1081-1800d            1650 non-null   object\n",
            " 47  PF_Rural_Vencer_1801-5400d            1650 non-null   object\n",
            " 48  PF_Rural_Vencer_acima_5400d           1650 non-null   object\n",
            " 49  PF_Rural_TOTAL                        1650 non-null   object\n",
            " 50  PF_Outros_Vencido_15d                 1650 non-null   object\n",
            " 51  PF_Outros_Vencer_90d                  1650 non-null   object\n",
            " 52  PF_Outros_Vencer_91-360d              1650 non-null   object\n",
            " 53  PF_Outros_Vencer_361-1080d            1650 non-null   object\n",
            " 54  PF_Outros_Vencer_1081-1800d           1650 non-null   object\n",
            " 55  PF_Outros_Vencer_1801-5400d           1650 non-null   object\n",
            " 56  PF_Outros_Vencer_acima_5400d          1650 non-null   object\n",
            " 57  Outros_TOTAL                          1650 non-null   object\n",
            " 58  Total_Exterior_PF                     1650 non-null   object\n",
            "dtypes: object(59)\n",
            "memory usage: 773.4+ KB\n"
          ]
        }
      ]
    },
    {
      "cell_type": "code",
      "source": [
        "df5.info()"
      ],
      "metadata": {
        "colab": {
          "base_uri": "https://localhost:8080/"
        },
        "id": "F9xc-_ypJ0Nm",
        "outputId": "71a3b373-02ad-4f55-f42f-03490b436978"
      },
      "execution_count": 23,
      "outputs": [
        {
          "output_type": "stream",
          "name": "stdout",
          "text": [
            "<class 'pandas.core.frame.DataFrame'>\n",
            "Int64Index: 1650 entries, 0 to 1696\n",
            "Data columns (total 83 columns):\n",
            " #   Column                                Non-Null Count  Dtype \n",
            "---  ------                                --------------  ----- \n",
            " 0   Instituição financeira                1650 non-null   object\n",
            " 1   Código                                1650 non-null   object\n",
            " 2   TCB                                   1650 non-null   object\n",
            " 3   TD                                    1650 non-null   object\n",
            " 4   TC                                    1650 non-null   int64 \n",
            " 5   Segmento                              1650 non-null   int64 \n",
            " 6   Cidade                                1650 non-null   object\n",
            " 7   UF                                    1650 non-null   object\n",
            " 8   Data                                  1650 non-null   object\n",
            " 9   Total da Carteira de Pessoa Jurídica  1650 non-null   object\n",
            " 10  PJ_CG_Vencido_15d                     1650 non-null   object\n",
            " 11  PJ_CG_Vencer_90d                      1650 non-null   object\n",
            " 12  PJ_CG_Vencer_91-360d                  1650 non-null   object\n",
            " 13  PJ_CG_Vencer_361-1080d                1650 non-null   object\n",
            " 14  PJ_CG_Vencer_1081-1800d               1650 non-null   object\n",
            " 15  PJ_CG_Vencer_1801-5400d               1650 non-null   object\n",
            " 16  PJ_CG_Vencer_acima_5400d              1650 non-null   object\n",
            " 17  PJ_CG_TOTAL                           1650 non-null   object\n",
            " 18  PJ_I_Vencido_15d                      1650 non-null   object\n",
            " 19  PJ_I_Vencer_90d                       1650 non-null   object\n",
            " 20  PJ_I_Vencer_91-360d                   1650 non-null   object\n",
            " 21  PJ_I_Vencer_361-1080d                 1650 non-null   object\n",
            " 22  PJ_I_Vencer_1081-1800d                1650 non-null   object\n",
            " 23  PJ_I_Vencer_1801-5400d                1650 non-null   object\n",
            " 24  PJ_I_Vencer_acima_5400d               1650 non-null   object\n",
            " 25  PJ_I_TOTAL                            1650 non-null   object\n",
            " 26  PJ_CGR_Vencido_15d                    1650 non-null   object\n",
            " 27  PJ_CGR_Vencer_90d                     1650 non-null   object\n",
            " 28  PJ_CGR_Vencer_91-360d                 1650 non-null   object\n",
            " 29  PJ_CGR_Vencer_361-1080d               1650 non-null   object\n",
            " 30  PJ_CGR_Vencer_1081-1800d              1650 non-null   object\n",
            " 31  PJ_CGR_Vencer_1801-5400d              1650 non-null   object\n",
            " 32  PJ_CGR_Vencer_acima_5400d             1650 non-null   object\n",
            " 33  PJ_CGR_TOTAL                          1650 non-null   object\n",
            " 34  PJ_Recebiveis_Vencido_15d             1650 non-null   object\n",
            " 35  PJ_Recebiveis_Vencer_90d              1650 non-null   object\n",
            " 36  PJ_Recebiveis_Vencer_91-360d          1650 non-null   object\n",
            " 37  PJ_Recebiveis_Vencer_361-1080d        1650 non-null   object\n",
            " 38  PJ_Recebiveis_Vencer_1081-1800d       1650 non-null   object\n",
            " 39  PJ_Recebiveis_Vencer_1801-5400d       1650 non-null   object\n",
            " 40  PJ_Recebiveis_Vencer_acima_5400d      1650 non-null   object\n",
            " 41  PJ_Recebiveis_TOTAL                   1650 non-null   object\n",
            " 42  PJ_Comex_Vencido_15d                  1650 non-null   object\n",
            " 43  PJ_Comex_Vencer_90d                   1650 non-null   object\n",
            " 44  PJ_Comex_Vencer_91-360d               1650 non-null   object\n",
            " 45  PJ_Comex_Vencer_361-1080d             1650 non-null   object\n",
            " 46  PJ_Comex_Vencer_1081-1800d            1650 non-null   object\n",
            " 47  PJ_Comex_Vencer_1801-5400d            1650 non-null   object\n",
            " 48  PJ_Comex_Vencer_acima_5400d           1650 non-null   object\n",
            " 49  PJ_Comex_TOTAL                        1650 non-null   object\n",
            " 50  PJ_Outros_Vencido_15d                 1650 non-null   object\n",
            " 51  PJ_Outros_Vencer_90d                  1650 non-null   object\n",
            " 52  PJ_Outros_Vencer_91-360d              1650 non-null   object\n",
            " 53  PJ_Outros_Vencer_361-1080d            1650 non-null   object\n",
            " 54  PJ_Outros_Vencer_1081-1800d           1650 non-null   object\n",
            " 55  PJ_Outros_Vencer_1801-5400d           1650 non-null   object\n",
            " 56  PJ_Outros_Vencer_acima_5400d          1650 non-null   object\n",
            " 57  PJ_Outros_TOTAL                       1650 non-null   object\n",
            " 58  PJ_Infra_Vencido_15d                  1650 non-null   object\n",
            " 59  PJ_Infra_Vencer_90d                   1650 non-null   object\n",
            " 60  PJ_Infra_Vencer_91-360d               1650 non-null   object\n",
            " 61  PJ_Infra_Vencer_361-1080d             1650 non-null   object\n",
            " 62  PJ_Infra_Vencer_1081-1800d            1650 non-null   object\n",
            " 63  PJ_Infra_Vencer_1801-5400d            1650 non-null   object\n",
            " 64  PJ_Infra_Vencer_acima_5400d           1650 non-null   object\n",
            " 65  PJ_Infra_TOTAL                        1650 non-null   object\n",
            " 66  PJ_Rural_Vencido_15d                  1650 non-null   object\n",
            " 67  PJ_Rural_Vencer_90d                   1650 non-null   object\n",
            " 68  PJ_Rural_Vencer_91-360d               1650 non-null   object\n",
            " 69  PJ_Rural_Vencer_361-1080d             1650 non-null   object\n",
            " 70  PJ_Rural_Vencer_1081-1800d            1650 non-null   object\n",
            " 71  PJ_Rural_Vencer_1801-5400d            1650 non-null   object\n",
            " 72  PJ_Rural_Vencer_acima_5400d           1650 non-null   object\n",
            " 73  PJ_Rural_TOTAL                        1650 non-null   object\n",
            " 74  PJ_Hab_Vencido_15d                    1650 non-null   object\n",
            " 75  PJ_Hab_Vencer_90d                     1650 non-null   object\n",
            " 76  PJ_Hab_Vencer_91-360d                 1650 non-null   object\n",
            " 77  PJ_Hab_Vencer_361-1080d               1650 non-null   object\n",
            " 78  PJ_Hab_Vencer_1081-1800d              1650 non-null   object\n",
            " 79  PJ_Hab_Vencer_1801-5400d              1650 non-null   object\n",
            " 80  PJ_Hab_Vencer_acima_5400d             1650 non-null   object\n",
            " 81  PJ_Hab_TOTAL                          1650 non-null   object\n",
            " 82  Total Exterior Pessoa Jurídica        1650 non-null   object\n",
            "dtypes: int64(2), object(81)\n",
            "memory usage: 1.1+ MB\n"
          ]
        }
      ]
    },
    {
      "cell_type": "code",
      "source": [
        "df6.info()"
      ],
      "metadata": {
        "colab": {
          "base_uri": "https://localhost:8080/"
        },
        "id": "Jeixdq4_J20Z",
        "outputId": "b1281110-d1ac-409d-f2ee-88372b87cb09"
      },
      "execution_count": 24,
      "outputs": [
        {
          "output_type": "stream",
          "name": "stdout",
          "text": [
            "<class 'pandas.core.frame.DataFrame'>\n",
            "Int64Index: 1650 entries, 0 to 1696\n",
            "Data columns (total 6 columns):\n",
            " #   Column                                     Non-Null Count  Dtype \n",
            "---  ------                                     --------------  ----- \n",
            " 0   Código                                     1650 non-null   object\n",
            " 1   Micro                                      1650 non-null   object\n",
            " 2   Pequena                                    1650 non-null   object\n",
            " 3   Média                                      1650 non-null   object\n",
            " 4   Grande                                     1650 non-null   object\n",
            " 5   Total não Individualizado Pessoa Jurídica  1650 non-null   object\n",
            "dtypes: object(6)\n",
            "memory usage: 90.2+ KB\n"
          ]
        }
      ]
    },
    {
      "cell_type": "code",
      "source": [
        "df7.info()"
      ],
      "metadata": {
        "colab": {
          "base_uri": "https://localhost:8080/"
        },
        "id": "vkStlQilQIDi",
        "outputId": "c9fb02d0-7095-4165-b3d0-b085667d3c92"
      },
      "execution_count": 25,
      "outputs": [
        {
          "output_type": "stream",
          "name": "stdout",
          "text": [
            "<class 'pandas.core.frame.DataFrame'>\n",
            "Int64Index: 1650 entries, 0 to 1696\n",
            "Data columns (total 12 columns):\n",
            " #   Column          Non-Null Count  Dtype \n",
            "---  ------          --------------  ----- \n",
            " 0   Código          1650 non-null   object\n",
            " 1   Total Geral     1650 non-null   object\n",
            " 2   AA              1650 non-null   object\n",
            " 3   A               1650 non-null   object\n",
            " 4   B               1650 non-null   object\n",
            " 5   C               1650 non-null   object\n",
            " 6   D               1650 non-null   object\n",
            " 7   E               1650 non-null   object\n",
            " 8   F               1650 non-null   object\n",
            " 9   G               1650 non-null   object\n",
            " 10  H               1650 non-null   object\n",
            " 11  Total Exterior  1650 non-null   object\n",
            "dtypes: object(12)\n",
            "memory usage: 167.6+ KB\n"
          ]
        }
      ]
    },
    {
      "cell_type": "code",
      "source": [
        "s1=df5.merge(df1, on='Código',how='left')"
      ],
      "metadata": {
        "id": "F8fe4lYfHP5e"
      },
      "execution_count": 37,
      "outputs": []
    },
    {
      "cell_type": "code",
      "source": [
        "s2=s1.merge(df2, on='Código',how='left')"
      ],
      "metadata": {
        "id": "xOXY6KUgHsfd"
      },
      "execution_count": 38,
      "outputs": []
    },
    {
      "cell_type": "code",
      "source": [
        "s3=s2.merge(df3, on='Código',how='left')"
      ],
      "metadata": {
        "id": "Xx8rN-4xRENw"
      },
      "execution_count": 39,
      "outputs": []
    },
    {
      "cell_type": "code",
      "source": [
        "s4=s3.merge(df4, on='Código',how='left')"
      ],
      "metadata": {
        "id": "CcjGmRTORTER"
      },
      "execution_count": 40,
      "outputs": []
    },
    {
      "cell_type": "code",
      "source": [
        "s5=s4.merge(df6, on='Código',how='left')"
      ],
      "metadata": {
        "id": "xzOmGkpmRZC5"
      },
      "execution_count": 41,
      "outputs": []
    },
    {
      "cell_type": "code",
      "source": [
        "df_06_12=s5.merge(df7, on='Código',how='left')"
      ],
      "metadata": {
        "id": "CWHPRc5LRchk"
      },
      "execution_count": 44,
      "outputs": []
    },
    {
      "cell_type": "code",
      "source": [
        "from google.colab import drive\n",
        "drive.mount('/content/drive')"
      ],
      "metadata": {
        "colab": {
          "base_uri": "https://localhost:8080/"
        },
        "id": "WkTo4KwhTeZt",
        "outputId": "80e99ea4-63ff-4902-fee1-2d0e6aa5d285"
      },
      "execution_count": 47,
      "outputs": [
        {
          "output_type": "stream",
          "name": "stdout",
          "text": [
            "Mounted at /content/drive\n"
          ]
        }
      ]
    },
    {
      "cell_type": "code",
      "source": [
        "df_06_12.to_csv('/content/drive/MyDrive/TCC/df_06_12.csv')"
      ],
      "metadata": {
        "id": "9n1AZaXPHZtF"
      },
      "execution_count": 48,
      "outputs": []
    }
  ]
}